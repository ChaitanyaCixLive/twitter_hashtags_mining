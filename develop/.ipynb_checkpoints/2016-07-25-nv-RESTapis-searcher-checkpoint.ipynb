{
 "cells": [
  {
   "cell_type": "markdown",
   "metadata": {},
   "source": [
    "# Notebook to develop a Twitter _searchAPI_ collector\n",
    "\n",
    "METHODS WE WANT TO USE IN PROJECT:\n",
    "\n",
    "- [GET search/tweets](https://dev.twitter.com/rest/reference/get/search/tweets)\n",
    "- [GET statuses/user_timeline](https://dev.twitter.com/rest/reference/get/statuses/user_timeline)\n"
   ]
  }
 ],
 "metadata": {
  "kernelspec": {
   "display_name": "Python 2",
   "language": "python",
   "name": "python2"
  },
  "language_info": {
   "codemirror_mode": {
    "name": "ipython",
    "version": 2
   },
   "file_extension": ".py",
   "mimetype": "text/x-python",
   "name": "python",
   "nbconvert_exporter": "python",
   "pygments_lexer": "ipython2",
   "version": "2.7.11"
  }
 },
 "nbformat": 4,
 "nbformat_minor": 0
}
